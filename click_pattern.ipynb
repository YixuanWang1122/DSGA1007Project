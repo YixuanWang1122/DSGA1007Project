{
 "cells": [
  {
   "cell_type": "code",
   "execution_count": null,
   "metadata": {},
   "outputs": [
    {
     "name": "stderr",
     "output_type": "stream",
     "text": [
      "c:\\Users\\maria\\anaconda3\\lib\\site-packages\\scipy\\__init__.py:146: UserWarning: A NumPy version >=1.16.5 and <1.23.0 is required for this version of SciPy (detected version 1.26.2\n",
      "  warnings.warn(f\"A NumPy version >={np_minversion} and <{np_maxversion}\"\n"
     ]
    }
   ],
   "source": [
    "import pandas as pd\n",
    "import numpy as np\n",
    "import matplotlib.pyplot as plt\n",
    "from sklearn.cluster import DBSCAN"
   ]
  },
  {
   "cell_type": "code",
   "execution_count": null,
   "metadata": {},
   "outputs": [],
   "source": [
    "df = pd.read_csv(\"csv\\\\train_data.csv\")\n",
    "df_test = pd.read_csv(\"csv\\\\test_data.csv\")"
   ]
  },
  {
   "cell_type": "code",
   "execution_count": null,
   "metadata": {},
   "outputs": [],
   "source": [
    "# Visualize click positions of train data\n",
    "plt.figure(figsize=(10, 6))\n",
    "plt.scatter(df['screen_coor_x'], df['screen_coor_y'])\n",
    "plt.title('Click Positions')\n",
    "plt.xlabel('X Coordinate')\n",
    "plt.ylabel('Y Coordinate')\n",
    "plt.show()"
   ]
  },
  {
   "cell_type": "code",
   "execution_count": null,
   "metadata": {},
   "outputs": [],
   "source": [
    "# Separate by level group\n",
    "df_0_4 = df[df[\"level_group\"] == '0-4']\n",
    "df_5_12 = df[df[\"level_group\"] == '5-12']\n",
    "df_13_22 = df[df[\"level_group\"] == '13-22']"
   ]
  },
  {
   "cell_type": "code",
   "execution_count": null,
   "metadata": {},
   "outputs": [],
   "source": [
    "# Conduct DBSCAN for each level group\n",
    "df_0_4 = df_0_4.dropna(subset=['screen_coor_x', 'screen_coor_y'])\n",
    "dbscan = DBSCAN(eps=0.5, min_samples=5)\n",
    "df_0_4['cluster'] = dbscan.fit_predict(df_0_4[['screen_coor_x', 'screen_coor_y']])\n",
    "df_0_4['common_area_cluster'] = df_0_4['cluster'].apply(lambda x: 1 if x != -1 else 0)\n",
    "percentage_0_4 = df_0_4.groupby('session_id')['common_area_cluster'].apply(\n",
    "    lambda x: (x == 1).sum() / len(x)\n",
    ").reset_index(name='fraction_of_common_click')\n",
    "percentage_0_4.to_csv('feature_train_click_0-4.csv', index = False)"
   ]
  },
  {
   "cell_type": "code",
   "execution_count": null,
   "metadata": {},
   "outputs": [],
   "source": [
    "df_5_12 = df_5_12.dropna(subset=['screen_coor_x', 'screen_coor_y'])\n",
    "dbscan = DBSCAN(eps=0.5, min_samples=5)\n",
    "df_5_12['cluster'] = dbscan.fit_predict(df_5_12[['screen_coor_x', 'screen_coor_y']])\n",
    "df_5_12['common_area_cluster'] = df_5_12['cluster'].apply(lambda x: 1 if x != -1 else 0)\n",
    "percentage_5_12 = df_5_12.groupby('session_id')['common_area_cluster'].apply(\n",
    "    lambda x: (x == 1).sum() / len(x)\n",
    ").reset_index(name='fraction_of_common_click')\n",
    "percentage_5_12.to_csv('feature_train_click_5-12.csv', index = False)"
   ]
  },
  {
   "cell_type": "code",
   "execution_count": null,
   "metadata": {},
   "outputs": [],
   "source": [
    "df_13_22 = df_13_22.dropna(subset=['screen_coor_x', 'screen_coor_y'])\n",
    "dbscan = DBSCAN(eps=0.5, min_samples=5)\n",
    "df_13_22['cluster'] = dbscan.fit_predict(df_13_22[['screen_coor_x', 'screen_coor_y']])\n",
    "df_13_22['common_area_cluster'] = df_13_22['cluster'].apply(lambda x: 1 if x != -1 else 0)\n",
    "percentage_13_22 = df_13_22.groupby('session_id')['common_area_cluster'].apply(\n",
    "    lambda x: (x == 1).sum() / len(x)\n",
    ").reset_index(name='fraction_of_common_click')\n",
    "percentage_13_22.to_csv('feature_train_click_13-22.csv', index = False)"
   ]
  },
  {
   "cell_type": "code",
   "execution_count": null,
   "metadata": {},
   "outputs": [],
   "source": [
    "df_test_0_4 = df_test[df_test[\"level_group\"] == '0-4']\n",
    "df_test_5_12 = df_test[df_test[\"level_group\"] == '5-12']\n",
    "df_test_13_22 = df_test[df_test[\"level_group\"] == '13-22']"
   ]
  },
  {
   "cell_type": "code",
   "execution_count": null,
   "metadata": {},
   "outputs": [],
   "source": [
    "df_test_0_4 = df_test_0_4.dropna(subset=['screen_coor_x', 'screen_coor_y'])\n",
    "dbscan = DBSCAN(eps=0.5, min_samples=5)\n",
    "df_test_0_4['cluster'] = dbscan.fit_predict(df_test_0_4[['screen_coor_x', 'screen_coor_y']])\n",
    "df_test_0_4['common_area_cluster'] = df_test_0_4['cluster'].apply(lambda x: 1 if x != -1 else 0)\n",
    "percentage_test_0_4 = df_test_0_4.groupby('session_id')['common_area_cluster'].apply(\n",
    "    lambda x: (x == 1).sum() / len(x)\n",
    ").reset_index(name='fraction_of_common_click')\n",
    "percentage_test_0_4.to_csv('feature_test_click_0-4.csv', index = False)"
   ]
  },
  {
   "cell_type": "code",
   "execution_count": null,
   "metadata": {},
   "outputs": [],
   "source": [
    "df_test_5_12 = df_test_5_12.dropna(subset=['screen_coor_x', 'screen_coor_y'])\n",
    "dbscan = DBSCAN(eps=0.5, min_samples=5)\n",
    "df_test_5_12['cluster'] = dbscan.fit_predict(df_test_5_12[['screen_coor_x', 'screen_coor_y']])\n",
    "df_test_5_12['common_area_cluster'] = df_test_5_12['cluster'].apply(lambda x: 1 if x != -1 else 0)\n",
    "percentage_test_5_12 = df_test_5_12.groupby('session_id')['common_area_cluster'].apply(\n",
    "    lambda x: (x == 1).sum() / len(x)\n",
    ").reset_index(name='fraction_of_common_click')\n",
    "percentage_test_5_12.to_csv('feature_test_click_5-12.csv', index = False)"
   ]
  },
  {
   "cell_type": "code",
   "execution_count": null,
   "metadata": {},
   "outputs": [],
   "source": [
    "df_test_13_22 = df_test_13_22.dropna(subset=['screen_coor_x', 'screen_coor_y'])\n",
    "dbscan = DBSCAN(eps=0.5, min_samples=5)\n",
    "df_test_13_22['cluster'] = dbscan.fit_predict(df_test_13_22[['screen_coor_x', 'screen_coor_y']])\n",
    "df_test_13_22['common_area_cluster'] = df_test_13_22['cluster'].apply(lambda x: 1 if x != -1 else 0)\n",
    "percentage_test_13_22 = df_test_13_22.groupby('session_id')['common_area_cluster'].apply(\n",
    "    lambda x: (x == 1).sum() / len(x)\n",
    ").reset_index(name='fraction_of_common_click')\n",
    "percentage_test_13_22.to_csv('feature_test_click_13-22.csv', index = False)"
   ]
  },
  {
   "cell_type": "markdown",
   "metadata": {},
   "source": [
    "下面是不要的"
   ]
  },
  {
   "cell_type": "code",
   "execution_count": 8,
   "metadata": {},
   "outputs": [
    {
     "data": {
      "text/html": [
       "<div>\n",
       "<style scoped>\n",
       "    .dataframe tbody tr th:only-of-type {\n",
       "        vertical-align: middle;\n",
       "    }\n",
       "\n",
       "    .dataframe tbody tr th {\n",
       "        vertical-align: top;\n",
       "    }\n",
       "\n",
       "    .dataframe thead th {\n",
       "        text-align: right;\n",
       "    }\n",
       "</style>\n",
       "<table border=\"1\" class=\"dataframe\">\n",
       "  <thead>\n",
       "    <tr style=\"text-align: right;\">\n",
       "      <th></th>\n",
       "      <th>session_id</th>\n",
       "      <th>index</th>\n",
       "      <th>elapsed_time</th>\n",
       "      <th>event_name</th>\n",
       "      <th>name</th>\n",
       "      <th>level</th>\n",
       "      <th>page</th>\n",
       "      <th>room_coor_x</th>\n",
       "      <th>room_coor_y</th>\n",
       "      <th>screen_coor_x</th>\n",
       "      <th>screen_coor_y</th>\n",
       "      <th>hover_duration</th>\n",
       "      <th>text</th>\n",
       "      <th>fqid</th>\n",
       "      <th>room_fqid</th>\n",
       "      <th>text_fqid</th>\n",
       "      <th>fullscreen</th>\n",
       "      <th>hq</th>\n",
       "      <th>music</th>\n",
       "      <th>level_group</th>\n",
       "    </tr>\n",
       "  </thead>\n",
       "  <tbody>\n",
       "    <tr>\n",
       "      <th>0</th>\n",
       "      <td>20090312431273200</td>\n",
       "      <td>0</td>\n",
       "      <td>0</td>\n",
       "      <td>cutscene_click</td>\n",
       "      <td>basic</td>\n",
       "      <td>0</td>\n",
       "      <td>NaN</td>\n",
       "      <td>-413.991405</td>\n",
       "      <td>-159.314686</td>\n",
       "      <td>380.0</td>\n",
       "      <td>494.0</td>\n",
       "      <td>NaN</td>\n",
       "      <td>undefined</td>\n",
       "      <td>intro</td>\n",
       "      <td>tunic.historicalsociety.closet</td>\n",
       "      <td>tunic.historicalsociety.closet.intro</td>\n",
       "      <td>0</td>\n",
       "      <td>0</td>\n",
       "      <td>1</td>\n",
       "      <td>0-4</td>\n",
       "    </tr>\n",
       "    <tr>\n",
       "      <th>1</th>\n",
       "      <td>20090312431273200</td>\n",
       "      <td>1</td>\n",
       "      <td>1323</td>\n",
       "      <td>person_click</td>\n",
       "      <td>basic</td>\n",
       "      <td>0</td>\n",
       "      <td>NaN</td>\n",
       "      <td>-413.991405</td>\n",
       "      <td>-159.314686</td>\n",
       "      <td>380.0</td>\n",
       "      <td>494.0</td>\n",
       "      <td>NaN</td>\n",
       "      <td>Whatcha doing over there, Jo?</td>\n",
       "      <td>gramps</td>\n",
       "      <td>tunic.historicalsociety.closet</td>\n",
       "      <td>tunic.historicalsociety.closet.gramps.intro_0_...</td>\n",
       "      <td>0</td>\n",
       "      <td>0</td>\n",
       "      <td>1</td>\n",
       "      <td>0-4</td>\n",
       "    </tr>\n",
       "    <tr>\n",
       "      <th>2</th>\n",
       "      <td>20090312431273200</td>\n",
       "      <td>2</td>\n",
       "      <td>831</td>\n",
       "      <td>person_click</td>\n",
       "      <td>basic</td>\n",
       "      <td>0</td>\n",
       "      <td>NaN</td>\n",
       "      <td>-413.991405</td>\n",
       "      <td>-159.314686</td>\n",
       "      <td>380.0</td>\n",
       "      <td>494.0</td>\n",
       "      <td>NaN</td>\n",
       "      <td>Just talking to Teddy.</td>\n",
       "      <td>gramps</td>\n",
       "      <td>tunic.historicalsociety.closet</td>\n",
       "      <td>tunic.historicalsociety.closet.gramps.intro_0_...</td>\n",
       "      <td>0</td>\n",
       "      <td>0</td>\n",
       "      <td>1</td>\n",
       "      <td>0-4</td>\n",
       "    </tr>\n",
       "    <tr>\n",
       "      <th>3</th>\n",
       "      <td>20090312431273200</td>\n",
       "      <td>3</td>\n",
       "      <td>1147</td>\n",
       "      <td>person_click</td>\n",
       "      <td>basic</td>\n",
       "      <td>0</td>\n",
       "      <td>NaN</td>\n",
       "      <td>-413.991405</td>\n",
       "      <td>-159.314686</td>\n",
       "      <td>380.0</td>\n",
       "      <td>494.0</td>\n",
       "      <td>NaN</td>\n",
       "      <td>I gotta run to my meeting!</td>\n",
       "      <td>gramps</td>\n",
       "      <td>tunic.historicalsociety.closet</td>\n",
       "      <td>tunic.historicalsociety.closet.gramps.intro_0_...</td>\n",
       "      <td>0</td>\n",
       "      <td>0</td>\n",
       "      <td>1</td>\n",
       "      <td>0-4</td>\n",
       "    </tr>\n",
       "    <tr>\n",
       "      <th>4</th>\n",
       "      <td>20090312431273200</td>\n",
       "      <td>4</td>\n",
       "      <td>1863</td>\n",
       "      <td>person_click</td>\n",
       "      <td>basic</td>\n",
       "      <td>0</td>\n",
       "      <td>NaN</td>\n",
       "      <td>-412.991405</td>\n",
       "      <td>-159.314686</td>\n",
       "      <td>381.0</td>\n",
       "      <td>494.0</td>\n",
       "      <td>NaN</td>\n",
       "      <td>Can I come, Gramps?</td>\n",
       "      <td>gramps</td>\n",
       "      <td>tunic.historicalsociety.closet</td>\n",
       "      <td>tunic.historicalsociety.closet.gramps.intro_0_...</td>\n",
       "      <td>0</td>\n",
       "      <td>0</td>\n",
       "      <td>1</td>\n",
       "      <td>0-4</td>\n",
       "    </tr>\n",
       "    <tr>\n",
       "      <th>...</th>\n",
       "      <td>...</td>\n",
       "      <td>...</td>\n",
       "      <td>...</td>\n",
       "      <td>...</td>\n",
       "      <td>...</td>\n",
       "      <td>...</td>\n",
       "      <td>...</td>\n",
       "      <td>...</td>\n",
       "      <td>...</td>\n",
       "      <td>...</td>\n",
       "      <td>...</td>\n",
       "      <td>...</td>\n",
       "      <td>...</td>\n",
       "      <td>...</td>\n",
       "      <td>...</td>\n",
       "      <td>...</td>\n",
       "      <td>...</td>\n",
       "      <td>...</td>\n",
       "      <td>...</td>\n",
       "      <td>...</td>\n",
       "    </tr>\n",
       "    <tr>\n",
       "      <th>21035923</th>\n",
       "      <td>22100221145014656</td>\n",
       "      <td>1600</td>\n",
       "      <td>5483231</td>\n",
       "      <td>navigate_click</td>\n",
       "      <td>undefined</td>\n",
       "      <td>22</td>\n",
       "      <td>NaN</td>\n",
       "      <td>343.887291</td>\n",
       "      <td>36.701026</td>\n",
       "      <td>483.0</td>\n",
       "      <td>273.0</td>\n",
       "      <td>NaN</td>\n",
       "      <td>NaN</td>\n",
       "      <td>NaN</td>\n",
       "      <td>tunic.capitol_2.hall</td>\n",
       "      <td>NaN</td>\n",
       "      <td>0</td>\n",
       "      <td>0</td>\n",
       "      <td>1</td>\n",
       "      <td>13-22</td>\n",
       "    </tr>\n",
       "    <tr>\n",
       "      <th>21035924</th>\n",
       "      <td>22100221145014656</td>\n",
       "      <td>1601</td>\n",
       "      <td>5485166</td>\n",
       "      <td>navigate_click</td>\n",
       "      <td>undefined</td>\n",
       "      <td>22</td>\n",
       "      <td>NaN</td>\n",
       "      <td>332.696070</td>\n",
       "      <td>141.493178</td>\n",
       "      <td>545.0</td>\n",
       "      <td>221.0</td>\n",
       "      <td>NaN</td>\n",
       "      <td>NaN</td>\n",
       "      <td>chap4_finale_c</td>\n",
       "      <td>tunic.capitol_2.hall</td>\n",
       "      <td>NaN</td>\n",
       "      <td>0</td>\n",
       "      <td>0</td>\n",
       "      <td>1</td>\n",
       "      <td>13-22</td>\n",
       "    </tr>\n",
       "    <tr>\n",
       "      <th>21035925</th>\n",
       "      <td>22100221145014656</td>\n",
       "      <td>1602</td>\n",
       "      <td>5485917</td>\n",
       "      <td>navigate_click</td>\n",
       "      <td>undefined</td>\n",
       "      <td>22</td>\n",
       "      <td>NaN</td>\n",
       "      <td>369.912859</td>\n",
       "      <td>140.569205</td>\n",
       "      <td>611.0</td>\n",
       "      <td>217.0</td>\n",
       "      <td>NaN</td>\n",
       "      <td>NaN</td>\n",
       "      <td>NaN</td>\n",
       "      <td>tunic.capitol_2.hall</td>\n",
       "      <td>NaN</td>\n",
       "      <td>0</td>\n",
       "      <td>0</td>\n",
       "      <td>1</td>\n",
       "      <td>13-22</td>\n",
       "    </tr>\n",
       "    <tr>\n",
       "      <th>21035926</th>\n",
       "      <td>22100221145014656</td>\n",
       "      <td>1603</td>\n",
       "      <td>5486753</td>\n",
       "      <td>navigate_click</td>\n",
       "      <td>undefined</td>\n",
       "      <td>22</td>\n",
       "      <td>NaN</td>\n",
       "      <td>252.299653</td>\n",
       "      <td>123.805889</td>\n",
       "      <td>526.0</td>\n",
       "      <td>232.0</td>\n",
       "      <td>NaN</td>\n",
       "      <td>NaN</td>\n",
       "      <td>chap4_finale_c</td>\n",
       "      <td>tunic.capitol_2.hall</td>\n",
       "      <td>NaN</td>\n",
       "      <td>0</td>\n",
       "      <td>0</td>\n",
       "      <td>1</td>\n",
       "      <td>13-22</td>\n",
       "    </tr>\n",
       "    <tr>\n",
       "      <th>21035927</th>\n",
       "      <td>22100221145014656</td>\n",
       "      <td>1604</td>\n",
       "      <td>5487952</td>\n",
       "      <td>checkpoint</td>\n",
       "      <td>basic</td>\n",
       "      <td>22</td>\n",
       "      <td>NaN</td>\n",
       "      <td>NaN</td>\n",
       "      <td>NaN</td>\n",
       "      <td>NaN</td>\n",
       "      <td>NaN</td>\n",
       "      <td>NaN</td>\n",
       "      <td>NaN</td>\n",
       "      <td>chap4_finale_c</td>\n",
       "      <td>tunic.capitol_2.hall</td>\n",
       "      <td>NaN</td>\n",
       "      <td>0</td>\n",
       "      <td>0</td>\n",
       "      <td>1</td>\n",
       "      <td>13-22</td>\n",
       "    </tr>\n",
       "  </tbody>\n",
       "</table>\n",
       "<p>21035928 rows × 20 columns</p>\n",
       "</div>"
      ],
      "text/plain": [
       "                 session_id  index  elapsed_time      event_name       name  \\\n",
       "0         20090312431273200      0             0  cutscene_click      basic   \n",
       "1         20090312431273200      1          1323    person_click      basic   \n",
       "2         20090312431273200      2           831    person_click      basic   \n",
       "3         20090312431273200      3          1147    person_click      basic   \n",
       "4         20090312431273200      4          1863    person_click      basic   \n",
       "...                     ...    ...           ...             ...        ...   \n",
       "21035923  22100221145014656   1600       5483231  navigate_click  undefined   \n",
       "21035924  22100221145014656   1601       5485166  navigate_click  undefined   \n",
       "21035925  22100221145014656   1602       5485917  navigate_click  undefined   \n",
       "21035926  22100221145014656   1603       5486753  navigate_click  undefined   \n",
       "21035927  22100221145014656   1604       5487952      checkpoint      basic   \n",
       "\n",
       "          level  page  room_coor_x  room_coor_y  screen_coor_x  screen_coor_y  \\\n",
       "0             0   NaN  -413.991405  -159.314686          380.0          494.0   \n",
       "1             0   NaN  -413.991405  -159.314686          380.0          494.0   \n",
       "2             0   NaN  -413.991405  -159.314686          380.0          494.0   \n",
       "3             0   NaN  -413.991405  -159.314686          380.0          494.0   \n",
       "4             0   NaN  -412.991405  -159.314686          381.0          494.0   \n",
       "...         ...   ...          ...          ...            ...            ...   \n",
       "21035923     22   NaN   343.887291    36.701026          483.0          273.0   \n",
       "21035924     22   NaN   332.696070   141.493178          545.0          221.0   \n",
       "21035925     22   NaN   369.912859   140.569205          611.0          217.0   \n",
       "21035926     22   NaN   252.299653   123.805889          526.0          232.0   \n",
       "21035927     22   NaN          NaN          NaN            NaN            NaN   \n",
       "\n",
       "          hover_duration                           text            fqid  \\\n",
       "0                    NaN                      undefined           intro   \n",
       "1                    NaN  Whatcha doing over there, Jo?          gramps   \n",
       "2                    NaN         Just talking to Teddy.          gramps   \n",
       "3                    NaN     I gotta run to my meeting!          gramps   \n",
       "4                    NaN            Can I come, Gramps?          gramps   \n",
       "...                  ...                            ...             ...   \n",
       "21035923             NaN                            NaN             NaN   \n",
       "21035924             NaN                            NaN  chap4_finale_c   \n",
       "21035925             NaN                            NaN             NaN   \n",
       "21035926             NaN                            NaN  chap4_finale_c   \n",
       "21035927             NaN                            NaN  chap4_finale_c   \n",
       "\n",
       "                               room_fqid  \\\n",
       "0         tunic.historicalsociety.closet   \n",
       "1         tunic.historicalsociety.closet   \n",
       "2         tunic.historicalsociety.closet   \n",
       "3         tunic.historicalsociety.closet   \n",
       "4         tunic.historicalsociety.closet   \n",
       "...                                  ...   \n",
       "21035923            tunic.capitol_2.hall   \n",
       "21035924            tunic.capitol_2.hall   \n",
       "21035925            tunic.capitol_2.hall   \n",
       "21035926            tunic.capitol_2.hall   \n",
       "21035927            tunic.capitol_2.hall   \n",
       "\n",
       "                                                  text_fqid  fullscreen  hq  \\\n",
       "0                      tunic.historicalsociety.closet.intro           0   0   \n",
       "1         tunic.historicalsociety.closet.gramps.intro_0_...           0   0   \n",
       "2         tunic.historicalsociety.closet.gramps.intro_0_...           0   0   \n",
       "3         tunic.historicalsociety.closet.gramps.intro_0_...           0   0   \n",
       "4         tunic.historicalsociety.closet.gramps.intro_0_...           0   0   \n",
       "...                                                     ...         ...  ..   \n",
       "21035923                                                NaN           0   0   \n",
       "21035924                                                NaN           0   0   \n",
       "21035925                                                NaN           0   0   \n",
       "21035926                                                NaN           0   0   \n",
       "21035927                                                NaN           0   0   \n",
       "\n",
       "          music level_group  \n",
       "0             1         0-4  \n",
       "1             1         0-4  \n",
       "2             1         0-4  \n",
       "3             1         0-4  \n",
       "4             1         0-4  \n",
       "...         ...         ...  \n",
       "21035923      1       13-22  \n",
       "21035924      1       13-22  \n",
       "21035925      1       13-22  \n",
       "21035926      1       13-22  \n",
       "21035927      1       13-22  \n",
       "\n",
       "[21035928 rows x 20 columns]"
      ]
     },
     "execution_count": 8,
     "metadata": {},
     "output_type": "execute_result"
    }
   ],
   "source": [
    "df_train = pd.read_csv(\"csv\\\\train_data.csv\")\n",
    "df_validation = pd.read_csv(\"csv\\\\val_data.csv\")\n",
    "df = pd.concat([df_train, df_validation], ignore_index=True)\n",
    "df"
   ]
  },
  {
   "cell_type": "code",
   "execution_count": 9,
   "metadata": {},
   "outputs": [],
   "source": [
    "df_validation_13_22 = df_validation[df_validation[\"level_group\"] == '13-22']"
   ]
  },
  {
   "cell_type": "code",
   "execution_count": 10,
   "metadata": {},
   "outputs": [],
   "source": [
    "df_validation_13_22 = df_validation_13_22.dropna(subset=['screen_coor_x', 'screen_coor_y'])\n",
    "dbscan = DBSCAN(eps=0.5, min_samples=5)\n",
    "df_validation_13_22['cluster'] = dbscan.fit_predict(df_validation_13_22[['screen_coor_x', 'screen_coor_y']])\n",
    "df_validation_13_22['common_area_cluster'] = df_validation_13_22['cluster'].apply(lambda x: 1 if x != -1 else 0)\n",
    "percentage_validation_13_22 = df_validation_13_22.groupby('session_id')['common_area_cluster'].apply(\n",
    "    lambda x: (x == 1).sum() / len(x)\n",
    ").reset_index(name='fraction_of_common_click')\n",
    "percentage_validation_13_22.to_csv('feature_val_click_13-22.csv', index = False)"
   ]
  },
  {
   "cell_type": "code",
   "execution_count": 11,
   "metadata": {},
   "outputs": [],
   "source": [
    "df = pd.read_csv(\"Feature Engineering\\\\feature_click_13-22.csv\")"
   ]
  },
  {
   "cell_type": "code",
   "execution_count": 12,
   "metadata": {},
   "outputs": [
    {
     "data": {
      "text/html": [
       "<div>\n",
       "<style scoped>\n",
       "    .dataframe tbody tr th:only-of-type {\n",
       "        vertical-align: middle;\n",
       "    }\n",
       "\n",
       "    .dataframe tbody tr th {\n",
       "        vertical-align: top;\n",
       "    }\n",
       "\n",
       "    .dataframe thead th {\n",
       "        text-align: right;\n",
       "    }\n",
       "</style>\n",
       "<table border=\"1\" class=\"dataframe\">\n",
       "  <thead>\n",
       "    <tr style=\"text-align: right;\">\n",
       "      <th></th>\n",
       "      <th>session_id</th>\n",
       "      <th>fraction_of_common_click</th>\n",
       "    </tr>\n",
       "  </thead>\n",
       "  <tbody>\n",
       "    <tr>\n",
       "      <th>0</th>\n",
       "      <td>20090312431273200</td>\n",
       "      <td>0.974490</td>\n",
       "    </tr>\n",
       "    <tr>\n",
       "      <th>1</th>\n",
       "      <td>20090312433251036</td>\n",
       "      <td>0.951149</td>\n",
       "    </tr>\n",
       "    <tr>\n",
       "      <th>2</th>\n",
       "      <td>20090313091715820</td>\n",
       "      <td>0.778761</td>\n",
       "    </tr>\n",
       "    <tr>\n",
       "      <th>3</th>\n",
       "      <td>20090314035813970</td>\n",
       "      <td>0.913525</td>\n",
       "    </tr>\n",
       "    <tr>\n",
       "      <th>4</th>\n",
       "      <td>20090314363702160</td>\n",
       "      <td>0.984043</td>\n",
       "    </tr>\n",
       "    <tr>\n",
       "      <th>...</th>\n",
       "      <td>...</td>\n",
       "      <td>...</td>\n",
       "    </tr>\n",
       "    <tr>\n",
       "      <th>18844</th>\n",
       "      <td>22090619362224080</td>\n",
       "      <td>0.831094</td>\n",
       "    </tr>\n",
       "    <tr>\n",
       "      <th>18845</th>\n",
       "      <td>22100212552203824</td>\n",
       "      <td>0.891700</td>\n",
       "    </tr>\n",
       "    <tr>\n",
       "      <th>18846</th>\n",
       "      <td>22100213081672770</td>\n",
       "      <td>0.816635</td>\n",
       "    </tr>\n",
       "    <tr>\n",
       "      <th>18847</th>\n",
       "      <td>22100215460321130</td>\n",
       "      <td>0.743719</td>\n",
       "    </tr>\n",
       "    <tr>\n",
       "      <th>18848</th>\n",
       "      <td>22100221145014656</td>\n",
       "      <td>0.749258</td>\n",
       "    </tr>\n",
       "  </tbody>\n",
       "</table>\n",
       "<p>18849 rows × 2 columns</p>\n",
       "</div>"
      ],
      "text/plain": [
       "              session_id  fraction_of_common_click\n",
       "0      20090312431273200                  0.974490\n",
       "1      20090312433251036                  0.951149\n",
       "2      20090313091715820                  0.778761\n",
       "3      20090314035813970                  0.913525\n",
       "4      20090314363702160                  0.984043\n",
       "...                  ...                       ...\n",
       "18844  22090619362224080                  0.831094\n",
       "18845  22100212552203824                  0.891700\n",
       "18846  22100213081672770                  0.816635\n",
       "18847  22100215460321130                  0.743719\n",
       "18848  22100221145014656                  0.749258\n",
       "\n",
       "[18849 rows x 2 columns]"
      ]
     },
     "execution_count": 12,
     "metadata": {},
     "output_type": "execute_result"
    }
   ],
   "source": [
    "df = pd.concat([df, percentage_validation_13_22], ignore_index=True)\n",
    "df"
   ]
  },
  {
   "cell_type": "code",
   "execution_count": 13,
   "metadata": {},
   "outputs": [],
   "source": [
    "df.to_csv('feature_train_click_13-22.csv', index = False)"
   ]
  },
  {
   "cell_type": "code",
   "execution_count": 2,
   "metadata": {},
   "outputs": [],
   "source": [
    "df_test = pd.read_csv(\"csv\\\\test_data.csv\")"
   ]
  },
  {
   "cell_type": "code",
   "execution_count": null,
   "metadata": {},
   "outputs": [],
   "source": [
    "df_test"
   ]
  },
  {
   "cell_type": "code",
   "execution_count": null,
   "metadata": {},
   "outputs": [],
   "source": [
    "df_0_4 = df[df[\"level_group\"] == '0-4']\n",
    "df_0_4"
   ]
  },
  {
   "cell_type": "code",
   "execution_count": null,
   "metadata": {},
   "outputs": [],
   "source": [
    "df_5_12 = df[df[\"level_group\"] == '5-12']\n",
    "df_13_22 = df[df[\"level_group\"] == '13-22']"
   ]
  },
  {
   "cell_type": "code",
   "execution_count": null,
   "metadata": {},
   "outputs": [],
   "source": [
    "df_0_4 = df_0_4.dropna(subset=['screen_coor_x', 'screen_coor_y'])\n",
    "dbscan = DBSCAN(eps=0.5, min_samples=5)\n",
    "df_0_4['cluster'] = dbscan.fit_predict(df_0_4[['screen_coor_x', 'screen_coor_y']])\n",
    "df_0_4['common_area_cluster'] = df_0_4['cluster'].apply(lambda x: 1 if x != -1 else 0)\n",
    "percentage_0_4 = df_0_4.groupby('session_id')['common_area_cluster'].apply(\n",
    "    lambda x: (x == 1).sum() / len(x)\n",
    ").reset_index(name='fraction_of_common_click')\n",
    "percentage_0_4.to_csv('feature_train_click_0-4.csv', index = False)"
   ]
  },
  {
   "cell_type": "code",
   "execution_count": null,
   "metadata": {},
   "outputs": [],
   "source": [
    "percentage_0_4"
   ]
  },
  {
   "cell_type": "code",
   "execution_count": 10,
   "metadata": {},
   "outputs": [],
   "source": [
    "df_5_12 = df_5_12.dropna(subset=['screen_coor_x', 'screen_coor_y'])\n",
    "dbscan = DBSCAN(eps=0.5, min_samples=5)\n",
    "df_5_12['cluster'] = dbscan.fit_predict(df_5_12[['screen_coor_x', 'screen_coor_y']])\n",
    "df_5_12['common_area_cluster'] = df_5_12['cluster'].apply(lambda x: 1 if x != -1 else 0)\n",
    "percentage_5_12 = df_5_12.groupby('session_id')['common_area_cluster'].apply(\n",
    "    lambda x: (x == 1).sum() / len(x)\n",
    ").reset_index(name='fraction_of_common_click')\n",
    "percentage_5_12.to_csv('feature_train_click_5-12.csv', index = False)"
   ]
  },
  {
   "cell_type": "code",
   "execution_count": 11,
   "metadata": {},
   "outputs": [
    {
     "ename": "MemoryError",
     "evalue": "Unable to allocate 146. MiB for an array with shape (9587636, 2) and data type float64",
     "output_type": "error",
     "traceback": [
      "\u001b[1;31m---------------------------------------------------------------------------\u001b[0m",
      "\u001b[1;31mMemoryError\u001b[0m                               Traceback (most recent call last)",
      "\u001b[1;32mc:\\Users\\maria\\OneDrive - HKUST Connect\\DSGA1007\\predict-student-performance-from-game-play\\click_pattern.ipynb Cell 10\u001b[0m line \u001b[0;36m<cell line: 3>\u001b[1;34m()\u001b[0m\n\u001b[0;32m      <a href='vscode-notebook-cell:/c%3A/Users/maria/OneDrive%20-%20HKUST%20Connect/DSGA1007/predict-student-performance-from-game-play/click_pattern.ipynb#X36sZmlsZQ%3D%3D?line=0'>1</a>\u001b[0m df_13_22 \u001b[39m=\u001b[39m df_13_22\u001b[39m.\u001b[39mdropna(subset\u001b[39m=\u001b[39m[\u001b[39m'\u001b[39m\u001b[39mscreen_coor_x\u001b[39m\u001b[39m'\u001b[39m, \u001b[39m'\u001b[39m\u001b[39mscreen_coor_y\u001b[39m\u001b[39m'\u001b[39m])\n\u001b[0;32m      <a href='vscode-notebook-cell:/c%3A/Users/maria/OneDrive%20-%20HKUST%20Connect/DSGA1007/predict-student-performance-from-game-play/click_pattern.ipynb#X36sZmlsZQ%3D%3D?line=1'>2</a>\u001b[0m dbscan \u001b[39m=\u001b[39m DBSCAN(eps\u001b[39m=\u001b[39m\u001b[39m0.5\u001b[39m, min_samples\u001b[39m=\u001b[39m\u001b[39m5\u001b[39m)\n\u001b[1;32m----> <a href='vscode-notebook-cell:/c%3A/Users/maria/OneDrive%20-%20HKUST%20Connect/DSGA1007/predict-student-performance-from-game-play/click_pattern.ipynb#X36sZmlsZQ%3D%3D?line=2'>3</a>\u001b[0m df_13_22[\u001b[39m'\u001b[39m\u001b[39mcluster\u001b[39m\u001b[39m'\u001b[39m] \u001b[39m=\u001b[39m dbscan\u001b[39m.\u001b[39;49mfit_predict(df_13_22[[\u001b[39m'\u001b[39;49m\u001b[39mscreen_coor_x\u001b[39;49m\u001b[39m'\u001b[39;49m, \u001b[39m'\u001b[39;49m\u001b[39mscreen_coor_y\u001b[39;49m\u001b[39m'\u001b[39;49m]])\n\u001b[0;32m      <a href='vscode-notebook-cell:/c%3A/Users/maria/OneDrive%20-%20HKUST%20Connect/DSGA1007/predict-student-performance-from-game-play/click_pattern.ipynb#X36sZmlsZQ%3D%3D?line=3'>4</a>\u001b[0m df_13_22[\u001b[39m'\u001b[39m\u001b[39mcommon_area_cluster\u001b[39m\u001b[39m'\u001b[39m] \u001b[39m=\u001b[39m df_13_22[\u001b[39m'\u001b[39m\u001b[39mcluster\u001b[39m\u001b[39m'\u001b[39m]\u001b[39m.\u001b[39mapply(\u001b[39mlambda\u001b[39;00m x: \u001b[39m1\u001b[39m \u001b[39mif\u001b[39;00m x \u001b[39m!=\u001b[39m \u001b[39m-\u001b[39m\u001b[39m1\u001b[39m \u001b[39melse\u001b[39;00m \u001b[39m0\u001b[39m)\n\u001b[0;32m      <a href='vscode-notebook-cell:/c%3A/Users/maria/OneDrive%20-%20HKUST%20Connect/DSGA1007/predict-student-performance-from-game-play/click_pattern.ipynb#X36sZmlsZQ%3D%3D?line=4'>5</a>\u001b[0m percentage_13_22 \u001b[39m=\u001b[39m df_13_22\u001b[39m.\u001b[39mgroupby(\u001b[39m'\u001b[39m\u001b[39msession_id\u001b[39m\u001b[39m'\u001b[39m)[\u001b[39m'\u001b[39m\u001b[39mcommon_area_cluster\u001b[39m\u001b[39m'\u001b[39m]\u001b[39m.\u001b[39mapply(\n\u001b[0;32m      <a href='vscode-notebook-cell:/c%3A/Users/maria/OneDrive%20-%20HKUST%20Connect/DSGA1007/predict-student-performance-from-game-play/click_pattern.ipynb#X36sZmlsZQ%3D%3D?line=5'>6</a>\u001b[0m     \u001b[39mlambda\u001b[39;00m x: (x \u001b[39m==\u001b[39m \u001b[39m1\u001b[39m)\u001b[39m.\u001b[39msum() \u001b[39m/\u001b[39m \u001b[39mlen\u001b[39m(x)\n\u001b[0;32m      <a href='vscode-notebook-cell:/c%3A/Users/maria/OneDrive%20-%20HKUST%20Connect/DSGA1007/predict-student-performance-from-game-play/click_pattern.ipynb#X36sZmlsZQ%3D%3D?line=6'>7</a>\u001b[0m )\u001b[39m.\u001b[39mreset_index(name\u001b[39m=\u001b[39m\u001b[39m'\u001b[39m\u001b[39mfraction_of_common_click\u001b[39m\u001b[39m'\u001b[39m)\n",
      "File \u001b[1;32mc:\\Users\\maria\\anaconda3\\lib\\site-packages\\sklearn\\cluster\\_dbscan.py:427\u001b[0m, in \u001b[0;36mDBSCAN.fit_predict\u001b[1;34m(self, X, y, sample_weight)\u001b[0m\n\u001b[0;32m    402\u001b[0m \u001b[39mdef\u001b[39;00m \u001b[39mfit_predict\u001b[39m(\u001b[39mself\u001b[39m, X, y\u001b[39m=\u001b[39m\u001b[39mNone\u001b[39;00m, sample_weight\u001b[39m=\u001b[39m\u001b[39mNone\u001b[39;00m):\n\u001b[0;32m    403\u001b[0m     \u001b[39m\"\"\"Compute clusters from a data or distance matrix and predict labels.\u001b[39;00m\n\u001b[0;32m    404\u001b[0m \n\u001b[0;32m    405\u001b[0m \u001b[39m    Parameters\u001b[39;00m\n\u001b[1;32m   (...)\u001b[0m\n\u001b[0;32m    425\u001b[0m \u001b[39m        Cluster labels. Noisy samples are given the label -1.\u001b[39;00m\n\u001b[0;32m    426\u001b[0m \u001b[39m    \"\"\"\u001b[39;00m\n\u001b[1;32m--> 427\u001b[0m     \u001b[39mself\u001b[39;49m\u001b[39m.\u001b[39;49mfit(X, sample_weight\u001b[39m=\u001b[39;49msample_weight)\n\u001b[0;32m    428\u001b[0m     \u001b[39mreturn\u001b[39;00m \u001b[39mself\u001b[39m\u001b[39m.\u001b[39mlabels_\n",
      "File \u001b[1;32mc:\\Users\\maria\\anaconda3\\lib\\site-packages\\sklearn\\cluster\\_dbscan.py:396\u001b[0m, in \u001b[0;36mDBSCAN.fit\u001b[1;34m(self, X, y, sample_weight)\u001b[0m\n\u001b[0;32m    392\u001b[0m \u001b[39mself\u001b[39m\u001b[39m.\u001b[39mlabels_ \u001b[39m=\u001b[39m labels\n\u001b[0;32m    394\u001b[0m \u001b[39mif\u001b[39;00m \u001b[39mlen\u001b[39m(\u001b[39mself\u001b[39m\u001b[39m.\u001b[39mcore_sample_indices_):\n\u001b[0;32m    395\u001b[0m     \u001b[39m# fix for scipy sparse indexing issue\u001b[39;00m\n\u001b[1;32m--> 396\u001b[0m     \u001b[39mself\u001b[39m\u001b[39m.\u001b[39mcomponents_ \u001b[39m=\u001b[39m X[\u001b[39mself\u001b[39;49m\u001b[39m.\u001b[39;49mcore_sample_indices_]\u001b[39m.\u001b[39mcopy()\n\u001b[0;32m    397\u001b[0m \u001b[39melse\u001b[39;00m:\n\u001b[0;32m    398\u001b[0m     \u001b[39m# no core samples\u001b[39;00m\n\u001b[0;32m    399\u001b[0m     \u001b[39mself\u001b[39m\u001b[39m.\u001b[39mcomponents_ \u001b[39m=\u001b[39m np\u001b[39m.\u001b[39mempty((\u001b[39m0\u001b[39m, X\u001b[39m.\u001b[39mshape[\u001b[39m1\u001b[39m]))\n",
      "\u001b[1;31mMemoryError\u001b[0m: Unable to allocate 146. MiB for an array with shape (9587636, 2) and data type float64"
     ]
    }
   ],
   "source": [
    "df_13_22 = df_13_22.dropna(subset=['screen_coor_x', 'screen_coor_y'])\n",
    "dbscan = DBSCAN(eps=0.5, min_samples=5)\n",
    "df_13_22['cluster'] = dbscan.fit_predict(df_13_22[['screen_coor_x', 'screen_coor_y']])\n",
    "df_13_22['common_area_cluster'] = df_13_22['cluster'].apply(lambda x: 1 if x != -1 else 0)\n",
    "percentage_13_22 = df_13_22.groupby('session_id')['common_area_cluster'].apply(\n",
    "    lambda x: (x == 1).sum() / len(x)\n",
    ").reset_index(name='fraction_of_common_click')\n",
    "percentage_13_22.to_csv('feature_train_click_13-22.csv', index = False)"
   ]
  },
  {
   "cell_type": "code",
   "execution_count": 3,
   "metadata": {},
   "outputs": [],
   "source": [
    "df_test_0_4 = df_test[df_test[\"level_group\"] == '0-4']\n",
    "df_test_5_12 = df_test[df_test[\"level_group\"] == '5-12']\n",
    "df_test_13_22 = df_test[df_test[\"level_group\"] == '13-22']"
   ]
  },
  {
   "cell_type": "code",
   "execution_count": 4,
   "metadata": {},
   "outputs": [],
   "source": [
    "df_test_0_4 = df_test_0_4.dropna(subset=['screen_coor_x', 'screen_coor_y'])\n",
    "dbscan = DBSCAN(eps=0.5, min_samples=5)\n",
    "df_test_0_4['cluster'] = dbscan.fit_predict(df_test_0_4[['screen_coor_x', 'screen_coor_y']])\n",
    "df_test_0_4['common_area_cluster'] = df_test_0_4['cluster'].apply(lambda x: 1 if x != -1 else 0)\n",
    "percentage_test_0_4 = df_test_0_4.groupby('session_id')['common_area_cluster'].apply(\n",
    "    lambda x: (x == 1).sum() / len(x)\n",
    ").reset_index(name='fraction_of_common_click')\n",
    "percentage_test_0_4.to_csv('feature_test_click_0-4.csv', index = False)"
   ]
  },
  {
   "cell_type": "code",
   "execution_count": 5,
   "metadata": {},
   "outputs": [],
   "source": [
    "df_test_13_22 = df_test_13_22.dropna(subset=['screen_coor_x', 'screen_coor_y'])\n",
    "dbscan = DBSCAN(eps=0.5, min_samples=5)\n",
    "df_test_13_22['cluster'] = dbscan.fit_predict(df_test_13_22[['screen_coor_x', 'screen_coor_y']])\n",
    "df_test_13_22['common_area_cluster'] = df_test_13_22['cluster'].apply(lambda x: 1 if x != -1 else 0)\n",
    "percentage_test_13_22 = df_test_13_22.groupby('session_id')['common_area_cluster'].apply(\n",
    "    lambda x: (x == 1).sum() / len(x)\n",
    ").reset_index(name='fraction_of_common_click')\n",
    "percentage_test_13_22.to_csv('feature_test_click_13-22.csv', index = False)"
   ]
  },
  {
   "cell_type": "code",
   "execution_count": 6,
   "metadata": {},
   "outputs": [],
   "source": [
    "df_test_5_12 = df_test_5_12.dropna(subset=['screen_coor_x', 'screen_coor_y'])\n",
    "dbscan = DBSCAN(eps=0.5, min_samples=5)\n",
    "df_test_5_12['cluster'] = dbscan.fit_predict(df_test_5_12[['screen_coor_x', 'screen_coor_y']])\n",
    "df_test_5_12['common_area_cluster'] = df_test_5_12['cluster'].apply(lambda x: 1 if x != -1 else 0)\n",
    "percentage_test_5_12 = df_test_5_12.groupby('session_id')['common_area_cluster'].apply(\n",
    "    lambda x: (x == 1).sum() / len(x)\n",
    ").reset_index(name='fraction_of_common_click')\n",
    "percentage_test_5_12.to_csv('feature_test_click_5-12.csv', index = False)"
   ]
  },
  {
   "cell_type": "code",
   "execution_count": null,
   "metadata": {},
   "outputs": [],
   "source": [
    "df = pd.read_csv('csv\\\\train_0-4.csv')\n",
    "df"
   ]
  },
  {
   "cell_type": "code",
   "execution_count": null,
   "metadata": {},
   "outputs": [],
   "source": [
    "df = df.dropna(subset=['screen_coor_x', 'screen_coor_y'])\n",
    "dbscan = DBSCAN(eps=0.5, min_samples=5)\n"
   ]
  },
  {
   "cell_type": "code",
   "execution_count": null,
   "metadata": {},
   "outputs": [],
   "source": [
    "df['cluster'] = dbscan.fit_predict(df[['screen_coor_x', 'screen_coor_y']])"
   ]
  },
  {
   "cell_type": "code",
   "execution_count": null,
   "metadata": {},
   "outputs": [],
   "source": [
    "plt.figure(figsize=(10, 6))\n",
    "plt.scatter(df['screen_coor_x'], df['screen_coor_y'], c=df['cluster'], cmap='viridis')\n",
    "plt.title('DBSCAN Clustered Click Positions')\n",
    "plt.xlabel('X Coordinate')\n",
    "plt.ylabel('Y Coordinate')\n",
    "plt.show()"
   ]
  },
  {
   "cell_type": "code",
   "execution_count": null,
   "metadata": {},
   "outputs": [],
   "source": [
    "df['common_area_cluster'] = df['cluster'].apply(lambda x: x if x != -1 else np.nan)"
   ]
  },
  {
   "cell_type": "code",
   "execution_count": null,
   "metadata": {},
   "outputs": [],
   "source": [
    "print(len(df['cluster'].unique()))"
   ]
  },
  {
   "cell_type": "code",
   "execution_count": null,
   "metadata": {},
   "outputs": [],
   "source": [
    "cluster_counts = df['cluster'].value_counts()\n",
    "print(cluster_counts.head(5))\n",
    "# Select the top 5 clusters\n",
    "top_clusters = cluster_counts.head(5).index\n",
    "print(\"Top 5 common clusters:\", top_clusters)\n",
    "df['common_area_cluster'] = df['cluster'].apply(lambda x: 1 if x != -1 else 0)"
   ]
  },
  {
   "cell_type": "code",
   "execution_count": null,
   "metadata": {},
   "outputs": [],
   "source": [
    "df"
   ]
  },
  {
   "cell_type": "code",
   "execution_count": null,
   "metadata": {},
   "outputs": [],
   "source": [
    "filtered = df[df['common_area_cluster'] == 1]\n",
    "plt.figure(figsize=(10, 6))\n",
    "plt.scatter(filtered['screen_coor_x'], filtered['screen_coor_y'], c=filtered['common_area_cluster'], cmap='viridis')\n",
    "plt.title('Clustered Click Positions')\n",
    "plt.xlabel('X Coordinate')\n",
    "plt.ylabel('Y Coordinate')\n",
    "plt.show()"
   ]
  },
  {
   "cell_type": "code",
   "execution_count": null,
   "metadata": {},
   "outputs": [],
   "source": [
    "percentage_data = df.groupby('session_id')['common_area_cluster'].apply(\n",
    "    lambda x: (x == 1).sum() / len(x)\n",
    ").reset_index(name='fraction_of_common_click')"
   ]
  },
  {
   "cell_type": "code",
   "execution_count": null,
   "metadata": {},
   "outputs": [],
   "source": [
    "percentage_data"
   ]
  },
  {
   "cell_type": "code",
   "execution_count": null,
   "metadata": {},
   "outputs": [],
   "source": [
    "percentage_data.to_csv('feature_click_0-4.csv', index = False)"
   ]
  },
  {
   "cell_type": "code",
   "execution_count": null,
   "metadata": {},
   "outputs": [],
   "source": [
    "df = pd.read_csv('csv\\\\train_5-12.csv')\n",
    "df = df.dropna(subset=['screen_coor_x', 'screen_coor_y'])\n",
    "dbscan = DBSCAN(eps=0.5, min_samples=5)\n",
    "df['cluster'] = dbscan.fit_predict(df[['screen_coor_x', 'screen_coor_y']])\n",
    "df['common_area_cluster'] = df['cluster'].apply(lambda x: 1 if x != -1 else 0)\n",
    "percentage_data = df.groupby('session_id')['common_area_cluster'].apply(\n",
    "    lambda x: (x == 1).sum() / len(x)\n",
    ").reset_index(name='fraction_of_common_click')\n",
    "percentage_data.to_csv('feature_click_5-12.csv', index = False)"
   ]
  },
  {
   "cell_type": "code",
   "execution_count": null,
   "metadata": {},
   "outputs": [],
   "source": [
    "df = pd.read_csv('csv\\\\train_13-22.csv')\n",
    "df = df.dropna(subset=['screen_coor_x', 'screen_coor_y'])\n",
    "dbscan = DBSCAN(eps=0.5, min_samples=5)\n",
    "df['cluster'] = dbscan.fit_predict(df[['screen_coor_x', 'screen_coor_y']])\n",
    "df['common_area_cluster'] = df['cluster'].apply(lambda x: 1 if x != -1 else 0)\n",
    "percentage_data = df.groupby('session_id')['common_area_cluster'].apply(\n",
    "    lambda x: (x == 1).sum() / len(x)\n",
    ").reset_index(name='fraction_of_common_click')\n",
    "percentage_data.to_csv('feature_click_13-22.csv', index = False)"
   ]
  },
  {
   "cell_type": "code",
   "execution_count": null,
   "metadata": {},
   "outputs": [],
   "source": [
    "percentage_data"
   ]
  },
  {
   "cell_type": "code",
   "execution_count": null,
   "metadata": {},
   "outputs": [],
   "source": [
    "plt.figure(figsize=(10, 6))\n",
    "plt.scatter(df['screen_coor_x'], df['screen_coor_y'])\n",
    "plt.title('Click Positions')\n",
    "plt.xlabel('X Coordinate')\n",
    "plt.ylabel('Y Coordinate')\n",
    "plt.show()"
   ]
  },
  {
   "cell_type": "code",
   "execution_count": null,
   "metadata": {},
   "outputs": [],
   "source": [
    "df = df.dropna(subset=['screen_coor_x', 'screen_coor_y'])\n",
    "k = 5  # You can adjust this based on your data\n",
    "\n",
    "# Clustering\n",
    "kmeans = KMeans(n_clusters=k, random_state=0)\n",
    "df['cluster'] = kmeans.fit_predict(df[['screen_coor_x', 'screen_coor_y']])\n",
    "\n",
    "# Visualizing the clusters\n",
    "plt.figure(figsize=(10, 6))\n",
    "plt.scatter(df['screen_coor_x'], df['screen_coor_y'], c=df['cluster'], cmap='viridis')\n",
    "plt.title('Clustered Click Positions')\n",
    "plt.xlabel('X Coordinate')\n",
    "plt.ylabel('Y Coordinate')\n",
    "plt.show()"
   ]
  },
  {
   "cell_type": "code",
   "execution_count": null,
   "metadata": {},
   "outputs": [],
   "source": [
    "df['common_area_cluster'] = df['cluster'].apply(lambda x: x if x in common_clusters else np.nan)"
   ]
  }
 ],
 "metadata": {
  "kernelspec": {
   "display_name": "base",
   "language": "python",
   "name": "python3"
  },
  "language_info": {
   "codemirror_mode": {
    "name": "ipython",
    "version": 3
   },
   "file_extension": ".py",
   "mimetype": "text/x-python",
   "name": "python",
   "nbconvert_exporter": "python",
   "pygments_lexer": "ipython3",
   "version": "3.9.12"
  }
 },
 "nbformat": 4,
 "nbformat_minor": 2
}
