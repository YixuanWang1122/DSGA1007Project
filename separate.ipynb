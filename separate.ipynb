{
 "cells": [
  {
   "cell_type": "code",
   "execution_count": 1,
   "metadata": {},
   "outputs": [
    {
     "name": "stdout",
     "output_type": "stream",
     "text": [
      "                 session_id  index  elapsed_time      event_name       name  \\\n",
      "0         20090312431273200      0             0  cutscene_click      basic   \n",
      "1         20090312431273200      1          1323    person_click      basic   \n",
      "2         20090312431273200      2           831    person_click      basic   \n",
      "3         20090312431273200      3          1147    person_click      basic   \n",
      "4         20090312431273200      4          1863    person_click      basic   \n",
      "...                     ...    ...           ...             ...        ...   \n",
      "26296941  22100221145014656   1600       5483231  navigate_click  undefined   \n",
      "26296942  22100221145014656   1601       5485166  navigate_click  undefined   \n",
      "26296943  22100221145014656   1602       5485917  navigate_click  undefined   \n",
      "26296944  22100221145014656   1603       5486753  navigate_click  undefined   \n",
      "26296945  22100221145014656   1604       5487952      checkpoint      basic   \n",
      "\n",
      "          level  page  room_coor_x  room_coor_y  screen_coor_x  screen_coor_y  \\\n",
      "0             0   NaN  -413.991405  -159.314686          380.0          494.0   \n",
      "1             0   NaN  -413.991405  -159.314686          380.0          494.0   \n",
      "2             0   NaN  -413.991405  -159.314686          380.0          494.0   \n",
      "3             0   NaN  -413.991405  -159.314686          380.0          494.0   \n",
      "4             0   NaN  -412.991405  -159.314686          381.0          494.0   \n",
      "...         ...   ...          ...          ...            ...            ...   \n",
      "26296941     22   NaN   343.887291    36.701026          483.0          273.0   \n",
      "26296942     22   NaN   332.696070   141.493178          545.0          221.0   \n",
      "26296943     22   NaN   369.912859   140.569205          611.0          217.0   \n",
      "26296944     22   NaN   252.299653   123.805889          526.0          232.0   \n",
      "26296945     22   NaN          NaN          NaN            NaN            NaN   \n",
      "\n",
      "          hover_duration                           text            fqid  \\\n",
      "0                    NaN                      undefined           intro   \n",
      "1                    NaN  Whatcha doing over there, Jo?          gramps   \n",
      "2                    NaN         Just talking to Teddy.          gramps   \n",
      "3                    NaN     I gotta run to my meeting!          gramps   \n",
      "4                    NaN            Can I come, Gramps?          gramps   \n",
      "...                  ...                            ...             ...   \n",
      "26296941             NaN                            NaN             NaN   \n",
      "26296942             NaN                            NaN  chap4_finale_c   \n",
      "26296943             NaN                            NaN             NaN   \n",
      "26296944             NaN                            NaN  chap4_finale_c   \n",
      "26296945             NaN                            NaN  chap4_finale_c   \n",
      "\n",
      "                               room_fqid  \\\n",
      "0         tunic.historicalsociety.closet   \n",
      "1         tunic.historicalsociety.closet   \n",
      "2         tunic.historicalsociety.closet   \n",
      "3         tunic.historicalsociety.closet   \n",
      "4         tunic.historicalsociety.closet   \n",
      "...                                  ...   \n",
      "26296941            tunic.capitol_2.hall   \n",
      "26296942            tunic.capitol_2.hall   \n",
      "26296943            tunic.capitol_2.hall   \n",
      "26296944            tunic.capitol_2.hall   \n",
      "26296945            tunic.capitol_2.hall   \n",
      "\n",
      "                                                  text_fqid  fullscreen  hq  \\\n",
      "0                      tunic.historicalsociety.closet.intro           0   0   \n",
      "1         tunic.historicalsociety.closet.gramps.intro_0_...           0   0   \n",
      "2         tunic.historicalsociety.closet.gramps.intro_0_...           0   0   \n",
      "3         tunic.historicalsociety.closet.gramps.intro_0_...           0   0   \n",
      "4         tunic.historicalsociety.closet.gramps.intro_0_...           0   0   \n",
      "...                                                     ...         ...  ..   \n",
      "26296941                                                NaN           0   0   \n",
      "26296942                                                NaN           0   0   \n",
      "26296943                                                NaN           0   0   \n",
      "26296944                                                NaN           0   0   \n",
      "26296945                                                NaN           0   0   \n",
      "\n",
      "          music level_group  \n",
      "0             1         0-4  \n",
      "1             1         0-4  \n",
      "2             1         0-4  \n",
      "3             1         0-4  \n",
      "4             1         0-4  \n",
      "...         ...         ...  \n",
      "26296941      1       13-22  \n",
      "26296942      1       13-22  \n",
      "26296943      1       13-22  \n",
      "26296944      1       13-22  \n",
      "26296945      1       13-22  \n",
      "\n",
      "[26296946 rows x 20 columns]\n"
     ]
    }
   ],
   "source": [
    "import pandas as pd\n",
    "df = pd.read_csv(\"train.csv\")\n",
    "print(df)"
   ]
  },
  {
   "cell_type": "code",
   "execution_count": 3,
   "metadata": {},
   "outputs": [
    {
     "name": "stdout",
     "output_type": "stream",
     "text": [
      "[20090312431273200 20090312433251036 20090312455206810 ...\n",
      " 22100217104993650 22100219442786200 22100221145014656]\n"
     ]
    }
   ],
   "source": [
    "session_ids = df['session_id'].unique()\n",
    "print(session_ids)"
   ]
  },
  {
   "cell_type": "code",
   "execution_count": 5,
   "metadata": {},
   "outputs": [],
   "source": [
    "import numpy as np\n",
    "np.random.shuffle(session_ids)\n",
    "\n",
    "num_sessions = len(session_ids)\n",
    "num_train = int(0.6 * num_sessions)\n",
    "num_val = int(0.2 * num_sessions)\n",
    "num_test = int(0.2 * num_sessions)\n",
    "\n",
    "train_sessions = session_ids[:num_train]\n",
    "val_sessions = session_ids[num_train: (num_train + num_val)]\n",
    "test_sessions = session_ids[(num_train + num_val):]"
   ]
  },
  {
   "cell_type": "code",
   "execution_count": 6,
   "metadata": {},
   "outputs": [],
   "source": [
    "train_df = df[df['session_id'].isin(train_sessions)]"
   ]
  },
  {
   "cell_type": "code",
   "execution_count": 7,
   "metadata": {},
   "outputs": [
    {
     "name": "stdout",
     "output_type": "stream",
     "text": [
      "                 session_id  index  elapsed_time      event_name       name  \\\n",
      "0         20090312431273200      0             0  cutscene_click      basic   \n",
      "1         20090312431273200      1          1323    person_click      basic   \n",
      "2         20090312431273200      2           831    person_click      basic   \n",
      "3         20090312431273200      3          1147    person_click      basic   \n",
      "4         20090312431273200      4          1863    person_click      basic   \n",
      "...                     ...    ...           ...             ...        ...   \n",
      "26295394  22100219442786200    916       1214906       map_hover      basic   \n",
      "26295395  22100219442786200    917       1215423       map_hover      basic   \n",
      "26295396  22100219442786200    918       1215891       map_click  undefined   \n",
      "26295397  22100219442786200    919       1216907  navigate_click  undefined   \n",
      "26295398  22100219442786200    920       1218877      checkpoint      basic   \n",
      "\n",
      "          level  page  room_coor_x  room_coor_y  screen_coor_x  screen_coor_y  \\\n",
      "0             0   NaN  -413.991405  -159.314686          380.0          494.0   \n",
      "1             0   NaN  -413.991405  -159.314686          380.0          494.0   \n",
      "2             0   NaN  -413.991405  -159.314686          380.0          494.0   \n",
      "3             0   NaN  -413.991405  -159.314686          380.0          494.0   \n",
      "4             0   NaN  -412.991405  -159.314686          381.0          494.0   \n",
      "...         ...   ...          ...          ...            ...            ...   \n",
      "26295394     22   NaN          NaN          NaN            NaN            NaN   \n",
      "26295395     22   NaN          NaN          NaN            NaN            NaN   \n",
      "26295396     22   NaN   432.303185    15.519443          426.0          320.0   \n",
      "26295397     22   NaN   266.614564     9.428299          432.0          291.0   \n",
      "26295398     22   NaN          NaN          NaN            NaN            NaN   \n",
      "\n",
      "          hover_duration                           text              fqid  \\\n",
      "0                    NaN                      undefined             intro   \n",
      "1                    NaN  Whatcha doing over there, Jo?            gramps   \n",
      "2                    NaN         Just talking to Teddy.            gramps   \n",
      "3                    NaN     I gotta run to my meeting!            gramps   \n",
      "4                    NaN            Can I come, Gramps?            gramps   \n",
      "...                  ...                            ...               ...   \n",
      "26295394           400.0                            NaN  tunic.drycleaner   \n",
      "26295395            17.0                            NaN     tunic.library   \n",
      "26295396             NaN                            NaN   tunic.capitol_2   \n",
      "26295397             NaN                            NaN    chap4_finale_c   \n",
      "26295398             NaN                            NaN    chap4_finale_c   \n",
      "\n",
      "                               room_fqid  \\\n",
      "0         tunic.historicalsociety.closet   \n",
      "1         tunic.historicalsociety.closet   \n",
      "2         tunic.historicalsociety.closet   \n",
      "3         tunic.historicalsociety.closet   \n",
      "4         tunic.historicalsociety.closet   \n",
      "...                                  ...   \n",
      "26295394   tunic.historicalsociety.entry   \n",
      "26295395   tunic.historicalsociety.entry   \n",
      "26295396   tunic.historicalsociety.entry   \n",
      "26295397            tunic.capitol_2.hall   \n",
      "26295398            tunic.capitol_2.hall   \n",
      "\n",
      "                                                  text_fqid  fullscreen  hq  \\\n",
      "0                      tunic.historicalsociety.closet.intro           0   0   \n",
      "1         tunic.historicalsociety.closet.gramps.intro_0_...           0   0   \n",
      "2         tunic.historicalsociety.closet.gramps.intro_0_...           0   0   \n",
      "3         tunic.historicalsociety.closet.gramps.intro_0_...           0   0   \n",
      "4         tunic.historicalsociety.closet.gramps.intro_0_...           0   0   \n",
      "...                                                     ...         ...  ..   \n",
      "26295394                                                NaN           0   0   \n",
      "26295395                                                NaN           0   0   \n",
      "26295396                                                NaN           0   0   \n",
      "26295397                                                NaN           0   0   \n",
      "26295398                                                NaN           0   0   \n",
      "\n",
      "          music level_group  \n",
      "0             1         0-4  \n",
      "1             1         0-4  \n",
      "2             1         0-4  \n",
      "3             1         0-4  \n",
      "4             1         0-4  \n",
      "...         ...         ...  \n",
      "26295394      1       13-22  \n",
      "26295395      1       13-22  \n",
      "26295396      1       13-22  \n",
      "26295397      1       13-22  \n",
      "26295398      1       13-22  \n",
      "\n",
      "[15778405 rows x 20 columns]\n"
     ]
    }
   ],
   "source": [
    "print(train_df)\n",
    "train_df.to_csv('train_data.csv', index=False)"
   ]
  },
  {
   "cell_type": "code",
   "execution_count": 8,
   "metadata": {},
   "outputs": [],
   "source": [
    "test_df = df[df['session_id'].isin(test_sessions)]\n",
    "val_df = df[df['session_id'].isin(val_sessions)]"
   ]
  },
  {
   "cell_type": "code",
   "execution_count": 9,
   "metadata": {},
   "outputs": [],
   "source": [
    "test_df.to_csv('test_data.csv', index=False)\n",
    "val_df.to_csv('val_data.csv', index=False)"
   ]
  },
  {
   "cell_type": "code",
   "execution_count": 11,
   "metadata": {},
   "outputs": [
    {
     "name": "stdout",
     "output_type": "stream",
     "text": [
      "Collecting pyarrow\n",
      "  Downloading pyarrow-14.0.1-cp39-cp39-win_amd64.whl (24.6 MB)\n",
      "Requirement already satisfied: numpy>=1.16.6 in c:\\users\\maria\\anaconda3\\lib\\site-packages (from pyarrow) (1.21.5)\n",
      "Installing collected packages: pyarrow\n",
      "Successfully installed pyarrow-14.0.1\n"
     ]
    }
   ],
   "source": [
    "!pip install pyarrow"
   ]
  },
  {
   "cell_type": "code",
   "execution_count": 12,
   "metadata": {},
   "outputs": [
    {
     "name": "stdout",
     "output_type": "stream",
     "text": [
      "Collecting fastparquet\n",
      "  Downloading fastparquet-2023.10.1-cp39-cp39-win_amd64.whl (667 kB)\n",
      "Collecting pandas>=1.5.0\n",
      "  Downloading pandas-2.1.3-cp39-cp39-win_amd64.whl (10.8 MB)\n",
      "Requirement already satisfied: numpy>=1.20.3 in c:\\users\\maria\\anaconda3\\lib\\site-packages (from fastparquet) (1.21.5)\n",
      "Collecting cramjam>=2.3\n",
      "  Downloading cramjam-2.7.0-cp39-none-win_amd64.whl (1.3 MB)\n",
      "Requirement already satisfied: packaging in c:\\users\\maria\\anaconda3\\lib\\site-packages (from fastparquet) (21.3)\n",
      "Requirement already satisfied: fsspec in c:\\users\\maria\\anaconda3\\lib\\site-packages (from fastparquet) (2022.2.0)\n",
      "Requirement already satisfied: python-dateutil>=2.8.2 in c:\\users\\maria\\anaconda3\\lib\\site-packages (from pandas>=1.5.0->fastparquet) (2.8.2)\n",
      "Collecting numpy>=1.20.3\n",
      "  Downloading numpy-1.26.2-cp39-cp39-win_amd64.whl (15.8 MB)\n",
      "Requirement already satisfied: pytz>=2020.1 in c:\\users\\maria\\anaconda3\\lib\\site-packages (from pandas>=1.5.0->fastparquet) (2021.3)\n",
      "Collecting tzdata>=2022.1\n",
      "  Downloading tzdata-2023.3-py2.py3-none-any.whl (341 kB)\n"
     ]
    },
    {
     "name": "stderr",
     "output_type": "stream",
     "text": [
      "ERROR: Could not install packages due to an OSError: [WinError 5] 拒绝访问。: 'C:\\\\Users\\\\maria\\\\anaconda3\\\\Lib\\\\site-packages\\\\~umpy\\\\core\\\\_multiarray_tests.cp39-win_amd64.pyd'\n",
      "Consider using the `--user` option or check the permissions.\n",
      "\n"
     ]
    },
    {
     "name": "stdout",
     "output_type": "stream",
     "text": [
      "Requirement already satisfied: six>=1.5 in c:\\users\\maria\\anaconda3\\lib\\site-packages (from python-dateutil>=2.8.2->pandas>=1.5.0->fastparquet) (1.16.0)\n",
      "Requirement already satisfied: pyparsing!=3.0.5,>=2.0.2 in c:\\users\\maria\\anaconda3\\lib\\site-packages (from packaging->fastparquet) (3.0.4)\n",
      "Installing collected packages: tzdata, numpy, pandas, cramjam, fastparquet\n",
      "  Attempting uninstall: numpy\n",
      "    Found existing installation: numpy 1.21.5\n",
      "    Uninstalling numpy-1.21.5:\n",
      "      Successfully uninstalled numpy-1.21.5\n"
     ]
    }
   ],
   "source": [
    "!pip install fastparquet"
   ]
  },
  {
   "cell_type": "code",
   "execution_count": 13,
   "metadata": {},
   "outputs": [],
   "source": [
    "train_df.to_parquet('train.parquet')"
   ]
  },
  {
   "cell_type": "code",
   "execution_count": 14,
   "metadata": {},
   "outputs": [],
   "source": [
    "test_df.to_parquet('test.parquet')"
   ]
  },
  {
   "cell_type": "code",
   "execution_count": 15,
   "metadata": {},
   "outputs": [],
   "source": [
    "val_df.to_parquet('val.parquet')"
   ]
  },
  {
   "cell_type": "code",
   "execution_count": 16,
   "metadata": {},
   "outputs": [],
   "source": [
    "df.to_parquet('original.parquet')"
   ]
  }
 ],
 "metadata": {
  "kernelspec": {
   "display_name": "base",
   "language": "python",
   "name": "python3"
  },
  "language_info": {
   "codemirror_mode": {
    "name": "ipython",
    "version": 3
   },
   "file_extension": ".py",
   "mimetype": "text/x-python",
   "name": "python",
   "nbconvert_exporter": "python",
   "pygments_lexer": "ipython3",
   "version": "3.9.12"
  }
 },
 "nbformat": 4,
 "nbformat_minor": 2
}
